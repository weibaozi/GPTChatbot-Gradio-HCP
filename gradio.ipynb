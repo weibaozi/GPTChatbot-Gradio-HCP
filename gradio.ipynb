{
 "cells": [
  {
   "cell_type": "code",
   "execution_count": 12,
   "metadata": {},
   "outputs": [
    {
     "name": "stdout",
     "output_type": "stream",
     "text": [
      "Running on local URL:  http://127.0.0.1:7871\n",
      "\n",
      "To create a public link, set `share=True` in `launch()`.\n"
     ]
    },
    {
     "data": {
      "text/html": [
       "<div><iframe src=\"http://127.0.0.1:7871/\" width=\"100%\" height=\"500\" allow=\"autoplay; camera; microphone; clipboard-read; clipboard-write;\" frameborder=\"0\" allowfullscreen></iframe></div>"
      ],
      "text/plain": [
       "<IPython.core.display.HTML object>"
      ]
     },
     "metadata": {},
     "output_type": "display_data"
    }
   ],
   "source": [
    "import gradio as gr\n",
    "from chatbot1 import ChatBot, extractSymptoms\n",
    "from util import *\n",
    "from transformers import pipeline\n",
    "\n",
    "bot=ChatBot()\n",
    "symptoms = \"\"\n",
    "persona_keys = [\n",
    "    \"name\", \"age\", \"race\", \"height\",\n",
    "    \"weight\", \"gender\", \"occupation\", \"phone\",\n",
    "    \"birth\", \"symptoms\", \"detail\", \"log\"\n",
    "]\n",
    "try:\n",
    "    persona = json.load(open(\"persona.json\", \"rb\"))\n",
    "except:\n",
    "    persona = {key: \"\" for key in persona_keys}\n",
    "with gr.Blocks() as demo:\n",
    "    with gr.Tab(\"Chatbot\"):\n",
    "        with gr.Column(scale=0):\n",
    "            chatbot=gr.Chatbot()\n",
    "            Input = gr.Textbox(label=\"Your input goes here\")\n",
    "            examples=gr.Examples(examples=[\"I feel so bad, I have a headache and I feel like I am going to die\",\n",
    "                                            \"I am a 22 years old male graduate student\"],inputs=[Input])\n",
    "            \n",
    "            FinishButton = gr.Button(\"Finish Conversation\")\n",
    "            def respond(message, chat_history):\n",
    "                response=bot.sendMessage(message)\n",
    "                chat_history.append((message, response))\n",
    "                return \"\", chat_history\n",
    "            results=gr.Textbox(label=\"Results\")\n",
    "            test = gr.Textbox(label=\"Test\")\n",
    "            Input.submit(respond, [Input, chatbot], [Input, chatbot])\n",
    "            \n",
    "    with gr.Tab(\"Persona\"):\n",
    "        with gr.Row():\n",
    "            name=gr.Textbox(label=\"Name\",value=persona[\"name\"])\n",
    "            age=gr.Textbox(label=\"Age\",value=persona[\"age\"])\n",
    "            race=gr.Textbox(label=\"Race\",value=persona[\"race\"])\n",
    "        with gr.Row():\n",
    "            height=gr.Textbox(label=\"Height\",value=persona[\"height\"])\n",
    "            weight=gr.Textbox(label=\"Weight\",value=persona[\"weight\"])\n",
    "            gender=gr.Textbox(label=\"Gender\",value=persona[\"gender\"])\n",
    "        with gr.Row():\n",
    "            occupation=gr.Textbox(label=\"Occupation\",value=persona[\"occupation\"])\n",
    "            phone=gr.Textbox(label=\"phone number\",value=persona[\"phone\"])\n",
    "            birth=gr.Textbox(label=\"Date of Birth\",value=persona[\"birth\"])\n",
    "        symptoms=gr.Textbox(label=\"Current Symptoms\",value=list_to_string(persona[\"symptoms\"]))\n",
    "        detail=gr.Textbox(label=\"Other details\",value=persona[\"detail\"])\n",
    "\n",
    "        # def parse_helper(out):\n",
    "        #     for\n",
    "        def extractSymptoms_helper():\n",
    "                user_input = bot.exportUserInputs()\n",
    "                result=''\n",
    "                try:\n",
    "                    out=extractSymptoms(user_input)\n",
    "                    result=format_json(json.loads(out),persona=persona)\n",
    "                    print(persona)\n",
    "                except:\n",
    "                    pass\n",
    "                \n",
    "                #save person to json\n",
    "                json.dump(persona, open(\"persona.json\", \"w\"))\n",
    "                #save conversation log to txt\n",
    "                conversation = bot.exportConversation()\n",
    "\n",
    "                return {results: gr.update(value=user_input+out+result),\n",
    "                        name: gr.update(value=persona[\"name\"],interactive=True),\n",
    "                        age: gr.update(value=persona[\"age\"]),\n",
    "                        race: gr.update(value=persona[\"race\"]),\n",
    "                        height: gr.update(value=persona[\"height\"]),\n",
    "                        weight: gr.update(value=persona[\"weight\"]),\n",
    "                        gender: gr.update(value=persona[\"gender\"]),\n",
    "                        occupation: gr.update(value=persona[\"occupation\"]),\n",
    "                        phone: gr.update(value=persona[\"phone\"]),\n",
    "                        birth: gr.update(value=persona[\"birth\"]),\n",
    "                        symptoms: gr.update(value=list_to_string(persona[\"symptoms\"])),\n",
    "                        detail: gr.update(value=persona[\"detail\"])}\n",
    "                # return result\n",
    "        \n",
    "        FinishButton.click(fn=extractSymptoms_helper, inputs=[], outputs=[results,name,age,race,height,weight,gender,occupation,\n",
    "                                                                        phone,birth,symptoms,detail])\n",
    "    with gr.Tab(\"Speech-to-Text\"):\n",
    "        pip=pipeline(\"automatic-speech-recognition\",model=\"facebook/wav2vec2-base-960h\")\n",
    "        audio = gr.Audio(\"type=filepath\")\n",
    "        text = gr.Textbox()\n",
    "        transcript_button = gr.Button(\"Transcribe\")\n",
    "        def speech_to_text(audio):\n",
    "            return pip(audio)[\"text\"]\n",
    "        transcript_button.click(fn=speech_to_text, inputs=[audio], outputs=[text])\n",
    "                \n",
    "if __name__ == \"__main__\":\n",
    "    try:\n",
    "        persona = json.load(open(\"persona.json\", \"rb\"))\n",
    "    except:\n",
    "        persona = {key: \"\" for key in persona_keys}\n",
    "    demo.launch()"
   ]
  },
  {
   "cell_type": "code",
   "execution_count": 55,
   "metadata": {},
   "outputs": [
    {
     "name": "stderr",
     "output_type": "stream",
     "text": [
      "C:\\Users\\guo36\\AppData\\Local\\Temp\\ipykernel_36404\\1905222462.py:12: GradioDeprecationWarning: Usage of gradio.inputs is deprecated, and will not be supported in the future, please import your component from gradio.components\n",
      "  gr.inputs.Textbox(label=\"Name\", placeholder=\"Enter Name\"),\n",
      "C:\\Users\\guo36\\AppData\\Local\\Temp\\ipykernel_36404\\1905222462.py:12: GradioDeprecationWarning: `optional` parameter is deprecated, and it has no effect\n",
      "  gr.inputs.Textbox(label=\"Name\", placeholder=\"Enter Name\"),\n",
      "C:\\Users\\guo36\\AppData\\Local\\Temp\\ipykernel_36404\\1905222462.py:12: GradioDeprecationWarning: `numeric` parameter is deprecated, and it has no effect\n",
      "  gr.inputs.Textbox(label=\"Name\", placeholder=\"Enter Name\"),\n",
      "C:\\Users\\guo36\\AppData\\Local\\Temp\\ipykernel_36404\\1905222462.py:13: GradioDeprecationWarning: Usage of gradio.inputs is deprecated, and will not be supported in the future, please import your component from gradio.components\n",
      "  gr.inputs.Textbox(label=\"Age\", placeholder=\"Enter Age\"),\n",
      "C:\\Users\\guo36\\AppData\\Local\\Temp\\ipykernel_36404\\1905222462.py:13: GradioDeprecationWarning: `optional` parameter is deprecated, and it has no effect\n",
      "  gr.inputs.Textbox(label=\"Age\", placeholder=\"Enter Age\"),\n",
      "C:\\Users\\guo36\\AppData\\Local\\Temp\\ipykernel_36404\\1905222462.py:13: GradioDeprecationWarning: `numeric` parameter is deprecated, and it has no effect\n",
      "  gr.inputs.Textbox(label=\"Age\", placeholder=\"Enter Age\"),\n",
      "C:\\Users\\guo36\\AppData\\Local\\Temp\\ipykernel_36404\\1905222462.py:14: GradioDeprecationWarning: Usage of gradio.inputs is deprecated, and will not be supported in the future, please import your component from gradio.components\n",
      "  gr.inputs.Textbox(label=\"Race\", placeholder=\"Enter Race\")\n",
      "C:\\Users\\guo36\\AppData\\Local\\Temp\\ipykernel_36404\\1905222462.py:14: GradioDeprecationWarning: `optional` parameter is deprecated, and it has no effect\n",
      "  gr.inputs.Textbox(label=\"Race\", placeholder=\"Enter Race\")\n",
      "C:\\Users\\guo36\\AppData\\Local\\Temp\\ipykernel_36404\\1905222462.py:14: GradioDeprecationWarning: `numeric` parameter is deprecated, and it has no effect\n",
      "  gr.inputs.Textbox(label=\"Race\", placeholder=\"Enter Race\")\n",
      "d:\\Anaconda\\lib\\site-packages\\gradio\\utils.py:776: UserWarning: Expected 4 arguments for function <function process_info at 0x0000029B60280700>, received 3.\n",
      "  warnings.warn(\n",
      "d:\\Anaconda\\lib\\site-packages\\gradio\\utils.py:780: UserWarning: Expected at least 4 arguments for function <function process_info at 0x0000029B60280700>, received 3.\n",
      "  warnings.warn(\n",
      "d:\\Anaconda\\lib\\site-packages\\gradio\\blocks.py:277: UserWarning: api_name predict already exists, using predict_1\n",
      "  warnings.warn(f\"api_name {api_name} already exists, using {api_name_}\")\n",
      "d:\\Anaconda\\lib\\site-packages\\gradio\\blocks.py:277: UserWarning: api_name predict already exists, using predict_2\n",
      "  warnings.warn(f\"api_name {api_name} already exists, using {api_name_}\")\n"
     ]
    },
    {
     "name": "stdout",
     "output_type": "stream",
     "text": [
      "Running on local URL:  http://127.0.0.1:7903\n",
      "\n",
      "To create a public link, set `share=True` in `launch()`.\n"
     ]
    },
    {
     "data": {
      "text/html": [
       "<div><iframe src=\"http://127.0.0.1:7903/\" width=\"100%\" height=\"500\" allow=\"autoplay; camera; microphone; clipboard-read; clipboard-write;\" frameborder=\"0\" allowfullscreen></iframe></div>"
      ],
      "text/plain": [
       "<IPython.core.display.HTML object>"
      ]
     },
     "metadata": {},
     "output_type": "display_data"
    },
    {
     "data": {
      "text/plain": []
     },
     "execution_count": 55,
     "metadata": {},
     "output_type": "execute_result"
    },
    {
     "name": "stderr",
     "output_type": "stream",
     "text": [
      "d:\\Anaconda\\lib\\site-packages\\gradio\\helpers.py:779: UserWarning: Unexpected argument. Filling with None.\n",
      "  warnings.warn(\"Unexpected argument. Filling with None.\")\n"
     ]
    }
   ],
   "source": [
    "import gradio as gr\n",
    "\n",
    "# Define a function to process the input and display the results\n",
    "def process_info(name, age, race, occupation):\n",
    "    result = f\"Name: {name}<br>Age: {age}<br>Race: {race}<br>Occupation: {occupation}\"\n",
    "    return result\n",
    "\n",
    "# Create a Gradio interface with three textboxes in a row\n",
    "iface = gr.Interface(\n",
    "    fn=process_info,\n",
    "    inputs=[\n",
    "        gr.inputs.Textbox(label=\"Name\", placeholder=\"Enter Name\"),\n",
    "        gr.inputs.Textbox(label=\"Age\", placeholder=\"Enter Age\"),\n",
    "        gr.inputs.Textbox(label=\"Race\", placeholder=\"Enter Race\")\n",
    "    ],\n",
    "    outputs=gr.outputs.HTML(label=\"Information\"),\n",
    "    title=\"User Information\",\n",
    "    description=\"Enter your details:\",\n",
    "    live=True,\n",
    ")\n",
    "\n",
    "# Launch the Gradio interface\n",
    "iface.launch()\n"
   ]
  },
  {
   "cell_type": "code",
   "execution_count": 27,
   "metadata": {},
   "outputs": [
    {
     "name": "stderr",
     "output_type": "stream",
     "text": [
      "C:\\Users\\guo36\\AppData\\Local\\Temp\\ipykernel_36404\\2061543407.py:13: GradioDeprecationWarning: Usage of gradio.inputs is deprecated, and will not be supported in the future, please import your component from gradio.components\n",
      "  inputs=[gr.inputs.Textbox(label=\"Enter Text\"), gr.inputs.Textbox(label=\"Text Color (e.g., red)\")],\n",
      "C:\\Users\\guo36\\AppData\\Local\\Temp\\ipykernel_36404\\2061543407.py:13: GradioDeprecationWarning: `optional` parameter is deprecated, and it has no effect\n",
      "  inputs=[gr.inputs.Textbox(label=\"Enter Text\"), gr.inputs.Textbox(label=\"Text Color (e.g., red)\")],\n",
      "C:\\Users\\guo36\\AppData\\Local\\Temp\\ipykernel_36404\\2061543407.py:13: GradioDeprecationWarning: `numeric` parameter is deprecated, and it has no effect\n",
      "  inputs=[gr.inputs.Textbox(label=\"Enter Text\"), gr.inputs.Textbox(label=\"Text Color (e.g., red)\")],\n",
      "d:\\Anaconda\\lib\\site-packages\\gradio\\blocks.py:277: UserWarning: api_name predict already exists, using predict_1\n",
      "  warnings.warn(f\"api_name {api_name} already exists, using {api_name_}\")\n"
     ]
    },
    {
     "name": "stdout",
     "output_type": "stream",
     "text": [
      "Running on local URL:  http://127.0.0.1:7882\n",
      "\n",
      "Thanks for being a Gradio user! If you have questions or feedback, please join our Discord server and chat with us: https://discord.gg/feTf9x3ZSB\n",
      "\n",
      "To create a public link, set `share=True` in `launch()`.\n"
     ]
    },
    {
     "data": {
      "text/html": [
       "<div><iframe src=\"http://127.0.0.1:7882/\" width=\"100%\" height=\"500\" allow=\"autoplay; camera; microphone; clipboard-read; clipboard-write;\" frameborder=\"0\" allowfullscreen></iframe></div>"
      ],
      "text/plain": [
       "<IPython.core.display.HTML object>"
      ]
     },
     "metadata": {},
     "output_type": "display_data"
    },
    {
     "data": {
      "text/plain": []
     },
     "execution_count": 27,
     "metadata": {},
     "output_type": "execute_result"
    }
   ],
   "source": [
    "import gradio as gr\n",
    "\n",
    "# Define a function to change the appearance of text based on user input\n",
    "def change_text(input_text, color):\n",
    "    # You can implement your own logic here to change the text appearance\n",
    "    image_url = \"https://i.imgur.com/oqJ9rSg.jpeg\"  # Replace with the actual image URL\n",
    "    styled_text = f'<span style=\"font-weight: bold; color: {color};\">{input_text} <img src=\"{image_url}\" alt=\"Embedded Image\" style=\"vertical-align: middle; max-width: 100px;\"></span>'\n",
    "    return styled_text\n",
    "\n",
    "# Create a Gradio interface with a textbox input and a text output\n",
    "iface = gr.Interface(\n",
    "    fn=change_text,\n",
    "    inputs=[gr.inputs.Textbox(label=\"Enter Text\"), gr.inputs.Textbox(label=\"Text Color (e.g., red)\")],\n",
    "    outputs=gr.outputs.HTML(label=\"Styled Text\"),\n",
    "    title=\"Styled Text Changer\",\n",
    "    description=\"Enter text and a color, and see the styled text below.\",\n",
    "    live=True,\n",
    ")\n",
    "\n",
    "# Launch the Gradio interface\n",
    "iface.launch()\n"
   ]
  }
 ],
 "metadata": {
  "kernelspec": {
   "display_name": "base",
   "language": "python",
   "name": "python3"
  },
  "language_info": {
   "codemirror_mode": {
    "name": "ipython",
    "version": 3
   },
   "file_extension": ".py",
   "mimetype": "text/x-python",
   "name": "python",
   "nbconvert_exporter": "python",
   "pygments_lexer": "ipython3",
   "version": "3.9.12"
  },
  "orig_nbformat": 4
 },
 "nbformat": 4,
 "nbformat_minor": 2
}
