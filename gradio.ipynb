{
 "cells": [
  {
   "cell_type": "code",
   "execution_count": 1,
   "metadata": {},
   "outputs": [
    {
     "name": "stderr",
     "output_type": "stream",
     "text": [
      "Some weights of Wav2Vec2ForCTC were not initialized from the model checkpoint at facebook/wav2vec2-base-960h and are newly initialized: ['wav2vec2.masked_spec_embed']\n",
      "You should probably TRAIN this model on a down-stream task to be able to use it for predictions and inference.\n"
     ]
    },
    {
     "name": "stdout",
     "output_type": "stream",
     "text": [
      "Running on local URL:  http://127.0.0.1:7861\n",
      "\n",
      "To create a public link, set `share=True` in `launch()`.\n"
     ]
    },
    {
     "data": {
      "text/html": [
       "<div><iframe src=\"http://127.0.0.1:7861/\" width=\"100%\" height=\"500\" allow=\"autoplay; camera; microphone; clipboard-read; clipboard-write;\" frameborder=\"0\" allowfullscreen></iframe></div>"
      ],
      "text/plain": [
       "<IPython.core.display.HTML object>"
      ]
     },
     "metadata": {},
     "output_type": "display_data"
    },
    {
     "name": "stdout",
     "output_type": "stream",
     "text": [
      "C:\\Users\\guo36\\AppData\\Local\\Temp\\gradio\\6cdcae2fd9258be4840ffa2a9ceaaa8f3bed3cef\\conversation1-0-100.mp3\n"
     ]
    }
   ],
   "source": [
    "import main as gr\n",
    "from chatbot1 import ChatBot, extractSymptoms, extractReminders,SpeechToText\n",
    "from util import *\n",
    "from transformers import pipeline\n",
    "import datetime\n",
    "\n",
    "bot=ChatBot()\n",
    "symptoms = \"\"\n",
    "persona_keys = [\n",
    "    \"name\", \"age\", \"race\", \"height\",\n",
    "    \"weight\", \"gender\", \"occupation\", \"phone\",\n",
    "    \"birth\", \"symptoms\", \"detail\", \"log\"\n",
    "]\n",
    "tones = get_tones()\n",
    "try:\n",
    "    persona = json.load(open(\"persona.json\", \"rb\"))\n",
    "except:\n",
    "    persona = {key: \"\" for key in persona_keys}\n",
    "with gr.Blocks() as demo:\n",
    "    with gr.Tab(\"Chatbot\"):\n",
    "        with gr.Column(scale=0):\n",
    "            with gr.Row():\n",
    "                tone_select=gr.Dropdown(label=\"Tone\",choices=tones.keys(),scale=2,value=sorted(tones.keys())[0],interactive=True)\n",
    "                tone_button=gr.Button(\"Set Tone\")\n",
    "                tone_button.click(fn=bot.updatePrompt,inputs=[tone_select],outputs=[])\n",
    "            chatbot=gr.Chatbot()\n",
    "            Input = gr.Textbox(label=\"Your input goes here\")\n",
    "            save_check = gr.Checkbox(label=\"Save Conversation\",value=True,interactive=True)\n",
    "            examples=gr.Examples(examples=[\"I feel so bad, I have a headache and I feel like I am going to die\",\n",
    "                                            \"I am a 22 years old male graduate student\"],inputs=[Input])\n",
    "            \n",
    "            FinishButton = gr.Button(\"Finish Conversation\")\n",
    "            \n",
    "            def respond(message, chat_history):\n",
    "                response=bot.sendMessage(message)\n",
    "                chat_history.append((message, response))\n",
    "                return \"\", chat_history\n",
    "            results=gr.Textbox(label=\"Results\")\n",
    "            Input.submit(respond, [Input, chatbot], [Input, chatbot])\n",
    "            \n",
    "    with gr.Tab(\"Persona\"):\n",
    "        with gr.Row():\n",
    "            name=gr.Textbox(label=\"Name\",value=persona[\"name\"],interactive=True)\n",
    "            age=gr.Textbox(label=\"Age\",value=persona[\"age\"],interactive=True)\n",
    "            race=gr.Textbox(label=\"Race\",value=persona[\"race\"],interactive=True)\n",
    "        with gr.Row():\n",
    "            height=gr.Textbox(label=\"Height\",value=persona[\"height\"],interactive=True)\n",
    "            weight=gr.Textbox(label=\"Weight\",value=persona[\"weight\"],interactive=True)\n",
    "            gender=gr.Textbox(label=\"Gender\",value=persona[\"gender\"],interactive=True)\n",
    "        with gr.Row():\n",
    "            occupation=gr.Textbox(label=\"Occupation\",value=persona[\"occupation\"],interactive=True)\n",
    "            phone=gr.Textbox(label=\"phone number\",value=persona[\"phone\"],interactive=True)\n",
    "            birth=gr.Textbox(label=\"Date of Birth\",value=persona[\"birth\"],interactive=True)\n",
    "        symptoms=gr.Textbox(label=\"Current Symptoms\",value=list_to_string(persona[\"symptoms\"]),interactive=True)\n",
    "        detail=gr.Textbox(label=\"Other details\",value=persona[\"detail\"],interactive=True)\n",
    "        #clearButton=gr.Button(\"Clear Persona\")\n",
    "\n",
    "\n",
    "        # def parse_helper(out):\n",
    "        #     for\n",
    "        def extractSymptoms_helper(save=False):\n",
    "                user_input = bot.exportUserInputs()\n",
    "                result=''\n",
    "                try:\n",
    "                    out=extractSymptoms(user_input)\n",
    "                    result=format_json(json.loads(out),persona=persona)\n",
    "                    print(persona)\n",
    "                except:\n",
    "                    pass\n",
    "                \n",
    "                #save person to json\n",
    "                json.dump(persona, open(\"persona.json\", \"w\"))\n",
    "                #save conversation log to txt\n",
    "                if save:\n",
    "                    conversation = bot.exportConversation()\n",
    "                    now = datetime.datetime.now()\n",
    "                    with open(\"./conversations/conversation\"+now.strftime(\"%Y-%m-%d-%H-%M-%S\")+\".txt\", \"w\") as f:\n",
    "                        f.write(conversation)\n",
    "\n",
    "                return {results: gr.update(value=result),\n",
    "                        name: gr.update(value=persona[\"name\"],interactive=True),\n",
    "                        age: gr.update(value=persona[\"age\"]),\n",
    "                        race: gr.update(value=persona[\"race\"]),\n",
    "                        height: gr.update(value=persona[\"height\"]),\n",
    "                        weight: gr.update(value=persona[\"weight\"]),\n",
    "                        gender: gr.update(value=persona[\"gender\"]),\n",
    "                        occupation: gr.update(value=persona[\"occupation\"]),\n",
    "                        phone: gr.update(value=persona[\"phone\"]),\n",
    "                        birth: gr.update(value=persona[\"birth\"]),\n",
    "                        symptoms: gr.update(value=list_to_string(persona[\"symptoms\"])),\n",
    "                        detail: gr.update(value=persona[\"detail\"])}\n",
    "                # return result\n",
    "        \n",
    "        FinishButton.click(fn=extractSymptoms_helper, inputs=[save_check], outputs=[results,name,age,race,height,weight,gender,occupation,\n",
    "                                                                        phone,birth,symptoms,detail])\n",
    "    with gr.Tab(\"Speech-to-Text\"):\n",
    "        pip=pipeline(\"automatic-speech-recognition\",model=\"facebook/wav2vec2-base-960h\")\n",
    "        audio = gr.Audio(type=\"filepath\",format=\"mp3\")\n",
    "        text = gr.Textbox()\n",
    "        transcript_button = gr.Button(\"Transcribe\")\n",
    "        \n",
    "        summary = gr.Textbox(label=\"Summary\")\n",
    "        summary_button = gr.Button(\"Summarize\")\n",
    "        def speech_to_text(audio):\n",
    "            return pip(audio)[\"text\"]\n",
    "        transcript_button.click(fn=SpeechToText, inputs=[audio], outputs=[text])\n",
    "        summary_button.click(fn=extractReminders, inputs=[text], outputs=[summary])\n",
    "                \n",
    "if __name__ == \"__main__\":\n",
    "    try:\n",
    "        persona = json.load(open(\"persona.json\", \"rb\"))\n",
    "    except:\n",
    "        persona = {key: \"\" for key in persona_keys}\n",
    "    demo.launch()"
   ]
  },
  {
   "cell_type": "code",
   "execution_count": 27,
   "metadata": {},
   "outputs": [
    {
     "name": "stderr",
     "output_type": "stream",
     "text": [
      "C:\\Users\\guo36\\AppData\\Local\\Temp\\ipykernel_36404\\2061543407.py:13: GradioDeprecationWarning: Usage of gradio.inputs is deprecated, and will not be supported in the future, please import your component from gradio.components\n",
      "  inputs=[gr.inputs.Textbox(label=\"Enter Text\"), gr.inputs.Textbox(label=\"Text Color (e.g., red)\")],\n",
      "C:\\Users\\guo36\\AppData\\Local\\Temp\\ipykernel_36404\\2061543407.py:13: GradioDeprecationWarning: `optional` parameter is deprecated, and it has no effect\n",
      "  inputs=[gr.inputs.Textbox(label=\"Enter Text\"), gr.inputs.Textbox(label=\"Text Color (e.g., red)\")],\n",
      "C:\\Users\\guo36\\AppData\\Local\\Temp\\ipykernel_36404\\2061543407.py:13: GradioDeprecationWarning: `numeric` parameter is deprecated, and it has no effect\n",
      "  inputs=[gr.inputs.Textbox(label=\"Enter Text\"), gr.inputs.Textbox(label=\"Text Color (e.g., red)\")],\n",
      "d:\\Anaconda\\lib\\site-packages\\gradio\\blocks.py:277: UserWarning: api_name predict already exists, using predict_1\n",
      "  warnings.warn(f\"api_name {api_name} already exists, using {api_name_}\")\n"
     ]
    },
    {
     "name": "stdout",
     "output_type": "stream",
     "text": [
      "Running on local URL:  http://127.0.0.1:7882\n",
      "\n",
      "Thanks for being a Gradio user! If you have questions or feedback, please join our Discord server and chat with us: https://discord.gg/feTf9x3ZSB\n",
      "\n",
      "To create a public link, set `share=True` in `launch()`.\n"
     ]
    },
    {
     "data": {
      "text/html": [
       "<div><iframe src=\"http://127.0.0.1:7882/\" width=\"100%\" height=\"500\" allow=\"autoplay; camera; microphone; clipboard-read; clipboard-write;\" frameborder=\"0\" allowfullscreen></iframe></div>"
      ],
      "text/plain": [
       "<IPython.core.display.HTML object>"
      ]
     },
     "metadata": {},
     "output_type": "display_data"
    },
    {
     "data": {
      "text/plain": []
     },
     "execution_count": 27,
     "metadata": {},
     "output_type": "execute_result"
    }
   ],
   "source": [
    "import main as gr\n",
    "\n",
    "# Define a function to change the appearance of text based on user input\n",
    "def change_text(input_text, color):\n",
    "    # You can implement your own logic here to change the text appearance\n",
    "    image_url = \"https://i.imgur.com/oqJ9rSg.jpeg\"  # Replace with the actual image URL\n",
    "    styled_text = f'<span style=\"font-weight: bold; color: {color};\">{input_text} <img src=\"{image_url}\" alt=\"Embedded Image\" style=\"vertical-align: middle; max-width: 100px;\"></span>'\n",
    "    return styled_text\n",
    "\n",
    "# Create a Gradio interface with a textbox input and a text output\n",
    "iface = gr.Interface(\n",
    "    fn=change_text,\n",
    "    inputs=[gr.inputs.Textbox(label=\"Enter Text\"), gr.inputs.Textbox(label=\"Text Color (e.g., red)\")],\n",
    "    outputs=gr.outputs.HTML(label=\"Styled Text\"),\n",
    "    title=\"Styled Text Changer\",\n",
    "    description=\"Enter text and a color, and see the styled text below.\",\n",
    "    live=True,\n",
    ")\n",
    "\n",
    "# Launch the Gradio interface\n",
    "iface.launch()\n"
   ]
  }
 ],
 "metadata": {
  "kernelspec": {
   "display_name": "base",
   "language": "python",
   "name": "python3"
  },
  "language_info": {
   "codemirror_mode": {
    "name": "ipython",
    "version": 3
   },
   "file_extension": ".py",
   "mimetype": "text/x-python",
   "name": "python",
   "nbconvert_exporter": "python",
   "pygments_lexer": "ipython3",
   "version": "3.9.12"
  },
  "orig_nbformat": 4
 },
 "nbformat": 4,
 "nbformat_minor": 2
}
